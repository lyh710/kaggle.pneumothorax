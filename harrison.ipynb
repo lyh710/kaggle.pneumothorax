{
 "cells": [
  {
   "cell_type": "markdown",
   "metadata": {},
   "source": [
    "## Job Interview using Kaggle Competetion of Pneumothorax\n",
    "\n",
    "- **Author:** Yonghui Li (Aries)\n",
    "- **Email :** Lyh710@gmail.com\n",
    "- **Mobile:** 0472 827 179\n",
    "\n",
    "Note the purpose of this work is **not** for the Kaggle competetion at all, but for a job interview. The aim is to use the Kaggle problem as an example to demonstrate our overall capability as best as we can. All is done within very limited time, and it is a one-off best attempt."
   ]
  },
  {
   "cell_type": "markdown",
   "metadata": {},
   "source": [
    "## Instruction provided by the recruiter:\n",
    "1.\tAccess and download the dataset from the Kaggle competition for Pneunomthorax detection: https://www.kaggle.com/c/siim-acr-pneumothorax-segmentation/overview   \n",
    "2.\tPerform appropriate exploratory data analysis and visualisation \n",
    "3.\tBuild a best-effort algorithm to detect a visual signal for Pneunomthorax as per the competition evaluation metric \n",
    "4.\tGenerate appropriate graphs / results table to assess model performance \n",
    "5.\tMake a baseline submission to the late submission pool \n",
    "6.\tDiscuss shortcomings and the improvements you would make to the dataset, evaluation metrics and algorithm "
   ]
  },
  {
   "cell_type": "markdown",
   "metadata": {},
   "source": [
    "## Acknowledgement\n",
    "To my wife Selina, for keeping the kids occupied and entertained during weekend, so that I can pull this off."
   ]
  },
  {
   "cell_type": "markdown",
   "metadata": {},
   "source": [
    "## Git repo: https://github.com/lyh710/kaggle.pneumothorax"
   ]
  },
  {
   "cell_type": "code",
   "execution_count": null,
   "metadata": {},
   "outputs": [],
   "source": []
  }
 ],
 "metadata": {
  "kernelspec": {
   "display_name": "kaggle",
   "language": "python",
   "name": "kaggle"
  },
  "language_info": {
   "codemirror_mode": {
    "name": "ipython",
    "version": 3
   },
   "file_extension": ".py",
   "mimetype": "text/x-python",
   "name": "python",
   "nbconvert_exporter": "python",
   "pygments_lexer": "ipython3",
   "version": "3.7.6"
  }
 },
 "nbformat": 4,
 "nbformat_minor": 4
}
